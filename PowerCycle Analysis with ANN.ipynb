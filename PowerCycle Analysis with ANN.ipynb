{
 "cells": [
  {
   "cell_type": "markdown",
   "metadata": {},
   "source": [
    "# COMBINED POWERCYCLE ANALYSIS"
   ]
  },
  {
   "cell_type": "code",
   "execution_count": 1,
   "metadata": {},
   "outputs": [],
   "source": [
    "import pandas as pd\n",
    "import numpy as np"
   ]
  },
  {
   "cell_type": "code",
   "execution_count": 2,
   "metadata": {
    "collapsed": true
   },
   "outputs": [
    {
     "name": "stderr",
     "output_type": "stream",
     "text": [
      "C:\\ProgramData\\Anaconda3\\lib\\site-packages\\tensorflow\\python\\framework\\dtypes.py:516: FutureWarning: Passing (type, 1) or '1type' as a synonym of type is deprecated; in a future version of numpy, it will be understood as (type, (1,)) / '(1,)type'.\n",
      "  _np_qint8 = np.dtype([(\"qint8\", np.int8, 1)])\n",
      "C:\\ProgramData\\Anaconda3\\lib\\site-packages\\tensorflow\\python\\framework\\dtypes.py:517: FutureWarning: Passing (type, 1) or '1type' as a synonym of type is deprecated; in a future version of numpy, it will be understood as (type, (1,)) / '(1,)type'.\n",
      "  _np_quint8 = np.dtype([(\"quint8\", np.uint8, 1)])\n",
      "C:\\ProgramData\\Anaconda3\\lib\\site-packages\\tensorflow\\python\\framework\\dtypes.py:518: FutureWarning: Passing (type, 1) or '1type' as a synonym of type is deprecated; in a future version of numpy, it will be understood as (type, (1,)) / '(1,)type'.\n",
      "  _np_qint16 = np.dtype([(\"qint16\", np.int16, 1)])\n",
      "C:\\ProgramData\\Anaconda3\\lib\\site-packages\\tensorflow\\python\\framework\\dtypes.py:519: FutureWarning: Passing (type, 1) or '1type' as a synonym of type is deprecated; in a future version of numpy, it will be understood as (type, (1,)) / '(1,)type'.\n",
      "  _np_quint16 = np.dtype([(\"quint16\", np.uint16, 1)])\n",
      "C:\\ProgramData\\Anaconda3\\lib\\site-packages\\tensorflow\\python\\framework\\dtypes.py:520: FutureWarning: Passing (type, 1) or '1type' as a synonym of type is deprecated; in a future version of numpy, it will be understood as (type, (1,)) / '(1,)type'.\n",
      "  _np_qint32 = np.dtype([(\"qint32\", np.int32, 1)])\n",
      "C:\\ProgramData\\Anaconda3\\lib\\site-packages\\tensorflow\\python\\framework\\dtypes.py:525: FutureWarning: Passing (type, 1) or '1type' as a synonym of type is deprecated; in a future version of numpy, it will be understood as (type, (1,)) / '(1,)type'.\n",
      "  np_resource = np.dtype([(\"resource\", np.ubyte, 1)])\n",
      "C:\\ProgramData\\Anaconda3\\lib\\site-packages\\tensorboard\\compat\\tensorflow_stub\\dtypes.py:541: FutureWarning: Passing (type, 1) or '1type' as a synonym of type is deprecated; in a future version of numpy, it will be understood as (type, (1,)) / '(1,)type'.\n",
      "  _np_qint8 = np.dtype([(\"qint8\", np.int8, 1)])\n",
      "C:\\ProgramData\\Anaconda3\\lib\\site-packages\\tensorboard\\compat\\tensorflow_stub\\dtypes.py:542: FutureWarning: Passing (type, 1) or '1type' as a synonym of type is deprecated; in a future version of numpy, it will be understood as (type, (1,)) / '(1,)type'.\n",
      "  _np_quint8 = np.dtype([(\"quint8\", np.uint8, 1)])\n",
      "C:\\ProgramData\\Anaconda3\\lib\\site-packages\\tensorboard\\compat\\tensorflow_stub\\dtypes.py:543: FutureWarning: Passing (type, 1) or '1type' as a synonym of type is deprecated; in a future version of numpy, it will be understood as (type, (1,)) / '(1,)type'.\n",
      "  _np_qint16 = np.dtype([(\"qint16\", np.int16, 1)])\n",
      "C:\\ProgramData\\Anaconda3\\lib\\site-packages\\tensorboard\\compat\\tensorflow_stub\\dtypes.py:544: FutureWarning: Passing (type, 1) or '1type' as a synonym of type is deprecated; in a future version of numpy, it will be understood as (type, (1,)) / '(1,)type'.\n",
      "  _np_quint16 = np.dtype([(\"quint16\", np.uint16, 1)])\n",
      "C:\\ProgramData\\Anaconda3\\lib\\site-packages\\tensorboard\\compat\\tensorflow_stub\\dtypes.py:545: FutureWarning: Passing (type, 1) or '1type' as a synonym of type is deprecated; in a future version of numpy, it will be understood as (type, (1,)) / '(1,)type'.\n",
      "  _np_qint32 = np.dtype([(\"qint32\", np.int32, 1)])\n",
      "C:\\ProgramData\\Anaconda3\\lib\\site-packages\\tensorboard\\compat\\tensorflow_stub\\dtypes.py:550: FutureWarning: Passing (type, 1) or '1type' as a synonym of type is deprecated; in a future version of numpy, it will be understood as (type, (1,)) / '(1,)type'.\n",
      "  np_resource = np.dtype([(\"resource\", np.ubyte, 1)])\n"
     ]
    }
   ],
   "source": [
    "import tensorflow as tf"
   ]
  },
  {
   "cell_type": "code",
   "execution_count": 5,
   "metadata": {},
   "outputs": [],
   "source": [
    "df = pd.read_excel('Folds5x2_pp.xlsx')"
   ]
  },
  {
   "cell_type": "code",
   "execution_count": 6,
   "metadata": {},
   "outputs": [
    {
     "data": {
      "text/html": [
       "<div>\n",
       "<style scoped>\n",
       "    .dataframe tbody tr th:only-of-type {\n",
       "        vertical-align: middle;\n",
       "    }\n",
       "\n",
       "    .dataframe tbody tr th {\n",
       "        vertical-align: top;\n",
       "    }\n",
       "\n",
       "    .dataframe thead th {\n",
       "        text-align: right;\n",
       "    }\n",
       "</style>\n",
       "<table border=\"1\" class=\"dataframe\">\n",
       "  <thead>\n",
       "    <tr style=\"text-align: right;\">\n",
       "      <th></th>\n",
       "      <th>AT</th>\n",
       "      <th>V</th>\n",
       "      <th>AP</th>\n",
       "      <th>RH</th>\n",
       "      <th>PE</th>\n",
       "    </tr>\n",
       "  </thead>\n",
       "  <tbody>\n",
       "    <tr>\n",
       "      <th>0</th>\n",
       "      <td>14.96</td>\n",
       "      <td>41.76</td>\n",
       "      <td>1024.07</td>\n",
       "      <td>73.17</td>\n",
       "      <td>463.26</td>\n",
       "    </tr>\n",
       "    <tr>\n",
       "      <th>1</th>\n",
       "      <td>25.18</td>\n",
       "      <td>62.96</td>\n",
       "      <td>1020.04</td>\n",
       "      <td>59.08</td>\n",
       "      <td>444.37</td>\n",
       "    </tr>\n",
       "    <tr>\n",
       "      <th>2</th>\n",
       "      <td>5.11</td>\n",
       "      <td>39.40</td>\n",
       "      <td>1012.16</td>\n",
       "      <td>92.14</td>\n",
       "      <td>488.56</td>\n",
       "    </tr>\n",
       "    <tr>\n",
       "      <th>3</th>\n",
       "      <td>20.86</td>\n",
       "      <td>57.32</td>\n",
       "      <td>1010.24</td>\n",
       "      <td>76.64</td>\n",
       "      <td>446.48</td>\n",
       "    </tr>\n",
       "    <tr>\n",
       "      <th>4</th>\n",
       "      <td>10.82</td>\n",
       "      <td>37.50</td>\n",
       "      <td>1009.23</td>\n",
       "      <td>96.62</td>\n",
       "      <td>473.90</td>\n",
       "    </tr>\n",
       "  </tbody>\n",
       "</table>\n",
       "</div>"
      ],
      "text/plain": [
       "      AT      V       AP     RH      PE\n",
       "0  14.96  41.76  1024.07  73.17  463.26\n",
       "1  25.18  62.96  1020.04  59.08  444.37\n",
       "2   5.11  39.40  1012.16  92.14  488.56\n",
       "3  20.86  57.32  1010.24  76.64  446.48\n",
       "4  10.82  37.50  1009.23  96.62  473.90"
      ]
     },
     "execution_count": 6,
     "metadata": {},
     "output_type": "execute_result"
    }
   ],
   "source": [
    "df.head()"
   ]
  },
  {
   "cell_type": "code",
   "execution_count": 12,
   "metadata": {},
   "outputs": [],
   "source": [
    "X = df.iloc[:,:-1].values\n",
    "y = df.iloc[:,-1].values"
   ]
  },
  {
   "cell_type": "code",
   "execution_count": 13,
   "metadata": {},
   "outputs": [],
   "source": [
    "from sklearn.model_selection import train_test_split\n",
    "X_train, X_test, y_train, y_test = train_test_split(X,y, test_size = 0.2, random_state = 0)"
   ]
  },
  {
   "cell_type": "code",
   "execution_count": 14,
   "metadata": {},
   "outputs": [],
   "source": [
    "ann = tf.keras.models.Sequential()"
   ]
  },
  {
   "cell_type": "code",
   "execution_count": 15,
   "metadata": {},
   "outputs": [],
   "source": [
    "ann.add(tf.keras.layers.Dense(units = 6, activation = 'relu'))"
   ]
  },
  {
   "cell_type": "code",
   "execution_count": 16,
   "metadata": {},
   "outputs": [],
   "source": [
    "ann.add(tf.keras.layers.Dense(units = 6, activation = 'relu'))"
   ]
  },
  {
   "cell_type": "code",
   "execution_count": 17,
   "metadata": {},
   "outputs": [],
   "source": [
    "ann.add(tf.keras.layers.Dense(units = 1))"
   ]
  },
  {
   "cell_type": "code",
   "execution_count": 18,
   "metadata": {},
   "outputs": [],
   "source": [
    "ann.compile(optimizer = 'adam', loss = 'mean_squared_error')"
   ]
  },
  {
   "cell_type": "code",
   "execution_count": 20,
   "metadata": {},
   "outputs": [
    {
     "name": "stdout",
     "output_type": "stream",
     "text": [
      "Train on 7654 samples\n",
      "Epoch 1/100\n",
      "7654/7654 [==============================] - 1s 114us/sample - loss: 91165.6876\n",
      "Epoch 2/100\n",
      "7654/7654 [==============================] - 0s 63us/sample - loss: 328.4722\n",
      "Epoch 3/100\n",
      "7654/7654 [==============================] - 0s 51us/sample - loss: 293.0919\n",
      "Epoch 4/100\n",
      "7654/7654 [==============================] - 0s 59us/sample - loss: 277.2657\n",
      "Epoch 5/100\n",
      "7654/7654 [==============================] - 0s 52us/sample - loss: 258.9946\n",
      "Epoch 6/100\n",
      "7654/7654 [==============================] - 0s 50us/sample - loss: 239.1611\n",
      "Epoch 7/100\n",
      "7654/7654 [==============================] - 0s 50us/sample - loss: 217.91760s - loss: 22\n",
      "Epoch 8/100\n",
      "7654/7654 [==============================] - 0s 48us/sample - loss: 196.2355\n",
      "Epoch 9/100\n",
      "7654/7654 [==============================] - 0s 48us/sample - loss: 174.6157\n",
      "Epoch 10/100\n",
      "7654/7654 [==============================] - 0s 53us/sample - loss: 153.3996\n",
      "Epoch 11/100\n",
      "7654/7654 [==============================] - 0s 47us/sample - loss: 133.9597\n",
      "Epoch 12/100\n",
      "7654/7654 [==============================] - 0s 53us/sample - loss: 115.7153\n",
      "Epoch 13/100\n",
      "7654/7654 [==============================] - 0s 46us/sample - loss: 100.0444\n",
      "Epoch 14/100\n",
      "7654/7654 [==============================] - 0s 48us/sample - loss: 86.3021\n",
      "Epoch 15/100\n",
      "7654/7654 [==============================] - 1s 67us/sample - loss: 74.9692\n",
      "Epoch 16/100\n",
      "7654/7654 [==============================] - 0s 48us/sample - loss: 66.2377\n",
      "Epoch 17/100\n",
      "7654/7654 [==============================] - 0s 55us/sample - loss: 59.8170\n",
      "Epoch 18/100\n",
      "7654/7654 [==============================] - 1s 70us/sample - loss: 54.6857\n",
      "Epoch 19/100\n",
      "7654/7654 [==============================] - 0s 58us/sample - loss: 51.0978\n",
      "Epoch 20/100\n",
      "7654/7654 [==============================] - 0s 57us/sample - loss: 48.3097\n",
      "Epoch 21/100\n",
      "7654/7654 [==============================] - 0s 51us/sample - loss: 45.8218\n",
      "Epoch 22/100\n",
      "7654/7654 [==============================] - 0s 50us/sample - loss: 43.6607\n",
      "Epoch 23/100\n",
      "7654/7654 [==============================] - 0s 57us/sample - loss: 42.4826s -\n",
      "Epoch 24/100\n",
      "7654/7654 [==============================] - 0s 48us/sample - loss: 40.7926\n",
      "Epoch 25/100\n",
      "7654/7654 [==============================] - 0s 46us/sample - loss: 39.4821\n",
      "Epoch 26/100\n",
      "7654/7654 [==============================] - 0s 55us/sample - loss: 38.1950\n",
      "Epoch 27/100\n",
      "7654/7654 [==============================] - 0s 45us/sample - loss: 37.0439\n",
      "Epoch 28/100\n",
      "7654/7654 [==============================] - 0s 45us/sample - loss: 36.0773\n",
      "Epoch 29/100\n",
      "7654/7654 [==============================] - 0s 56us/sample - loss: 35.1451\n",
      "Epoch 30/100\n",
      "7654/7654 [==============================] - 0s 56us/sample - loss: 33.8239\n",
      "Epoch 31/100\n",
      "7654/7654 [==============================] - 0s 52us/sample - loss: 33.2292\n",
      "Epoch 32/100\n",
      "7654/7654 [==============================] - 0s 60us/sample - loss: 31.9621\n",
      "Epoch 33/100\n",
      "7654/7654 [==============================] - 0s 49us/sample - loss: 31.3385\n",
      "Epoch 34/100\n",
      "7654/7654 [==============================] - 0s 54us/sample - loss: 30.7086\n",
      "Epoch 35/100\n",
      "7654/7654 [==============================] - 0s 46us/sample - loss: 29.5905\n",
      "Epoch 36/100\n",
      "7654/7654 [==============================] - 0s 62us/sample - loss: 29.5397\n",
      "Epoch 37/100\n",
      "7654/7654 [==============================] - 0s 65us/sample - loss: 29.1717\n",
      "Epoch 38/100\n",
      "7654/7654 [==============================] - 0s 54us/sample - loss: 28.4652\n",
      "Epoch 39/100\n",
      "7654/7654 [==============================] - ETA: 0s - loss: 28.40 - 0s 57us/sample - loss: 28.3264\n",
      "Epoch 40/100\n",
      "7654/7654 [==============================] - 0s 58us/sample - loss: 28.0609\n",
      "Epoch 41/100\n",
      "7654/7654 [==============================] - 0s 48us/sample - loss: 27.3985\n",
      "Epoch 42/100\n",
      "7654/7654 [==============================] - 0s 56us/sample - loss: 27.6846\n",
      "Epoch 43/100\n",
      "7654/7654 [==============================] - 0s 54us/sample - loss: 27.6493\n",
      "Epoch 44/100\n",
      "7654/7654 [==============================] - 0s 56us/sample - loss: 27.0735\n",
      "Epoch 45/100\n",
      "7654/7654 [==============================] - 0s 58us/sample - loss: 27.2530\n",
      "Epoch 46/100\n",
      "7654/7654 [==============================] - 0s 51us/sample - loss: 27.0827\n",
      "Epoch 47/100\n",
      "7654/7654 [==============================] - 0s 56us/sample - loss: 26.8784\n",
      "Epoch 48/100\n",
      "7654/7654 [==============================] - 0s 56us/sample - loss: 26.8416\n",
      "Epoch 49/100\n",
      "7654/7654 [==============================] - 0s 52us/sample - loss: 26.5915\n",
      "Epoch 50/100\n",
      "7654/7654 [==============================] - 0s 57us/sample - loss: 27.1535\n",
      "Epoch 51/100\n",
      "7654/7654 [==============================] - 0s 57us/sample - loss: 26.6770\n",
      "Epoch 52/100\n",
      "7654/7654 [==============================] - 0s 49us/sample - loss: 26.5006\n",
      "Epoch 53/100\n",
      "7654/7654 [==============================] - 0s 59us/sample - loss: 27.2975\n",
      "Epoch 54/100\n",
      "7654/7654 [==============================] - 0s 48us/sample - loss: 26.4953\n",
      "Epoch 55/100\n",
      "7654/7654 [==============================] - 0s 44us/sample - loss: 26.3746\n",
      "Epoch 56/100\n",
      "7654/7654 [==============================] - 0s 56us/sample - loss: 27.0600\n",
      "Epoch 57/100\n",
      "7654/7654 [==============================] - 0s 53us/sample - loss: 27.5702\n",
      "Epoch 58/100\n",
      "7654/7654 [==============================] - 0s 48us/sample - loss: 26.4426\n",
      "Epoch 59/100\n",
      "7654/7654 [==============================] - 0s 58us/sample - loss: 26.8064\n",
      "Epoch 60/100\n",
      "7654/7654 [==============================] - 0s 52us/sample - loss: 27.0682\n",
      "Epoch 61/100\n",
      "7654/7654 [==============================] - 0s 62us/sample - loss: 27.3935\n",
      "Epoch 62/100\n",
      "7654/7654 [==============================] - 0s 49us/sample - loss: 26.7487\n",
      "Epoch 63/100\n",
      "7654/7654 [==============================] - 0s 53us/sample - loss: 26.9779\n",
      "Epoch 64/100\n",
      "7654/7654 [==============================] - 0s 60us/sample - loss: 27.2549\n",
      "Epoch 65/100\n",
      "7654/7654 [==============================] - 0s 50us/sample - loss: 26.6498\n",
      "Epoch 66/100\n",
      "7654/7654 [==============================] - 0s 53us/sample - loss: 27.3734\n",
      "Epoch 67/100\n",
      "7654/7654 [==============================] - 0s 56us/sample - loss: 26.5773\n",
      "Epoch 68/100\n",
      "7654/7654 [==============================] - 0s 49us/sample - loss: 26.5772\n",
      "Epoch 69/100\n",
      "7654/7654 [==============================] - 0s 51us/sample - loss: 27.5684s - l\n",
      "Epoch 70/100\n",
      "7654/7654 [==============================] - 0s 51us/sample - loss: 26.5480\n",
      "Epoch 71/100\n",
      "7654/7654 [==============================] - 0s 48us/sample - loss: 26.4984\n",
      "Epoch 72/100\n",
      "7654/7654 [==============================] - 0s 50us/sample - loss: 26.6536\n",
      "Epoch 73/100\n",
      "7654/7654 [==============================] - 0s 59us/sample - loss: 27.0178\n",
      "Epoch 74/100\n",
      "7654/7654 [==============================] - 0s 53us/sample - loss: 26.5930\n",
      "Epoch 75/100\n",
      "7654/7654 [==============================] - 0s 62us/sample - loss: 27.0836\n",
      "Epoch 76/100\n",
      "7654/7654 [==============================] - 0s 51us/sample - loss: 26.8239\n",
      "Epoch 77/100\n",
      "7654/7654 [==============================] - 0s 52us/sample - loss: 26.8601\n",
      "Epoch 78/100\n",
      "7654/7654 [==============================] - 0s 59us/sample - loss: 26.9822\n",
      "Epoch 79/100\n",
      "7654/7654 [==============================] - 0s 52us/sample - loss: 26.4453\n",
      "Epoch 80/100\n",
      "7654/7654 [==============================] - 0s 58us/sample - loss: 26.9999\n",
      "Epoch 81/100\n",
      "7654/7654 [==============================] - 0s 56us/sample - loss: 26.6317\n",
      "Epoch 82/100\n",
      "7654/7654 [==============================] - 1s 66us/sample - loss: 26.6994\n",
      "Epoch 83/100\n",
      "7654/7654 [==============================] - 0s 50us/sample - loss: 27.2957\n",
      "Epoch 84/100\n",
      "7654/7654 [==============================] - 0s 43us/sample - loss: 26.4128s - l\n",
      "Epoch 85/100\n",
      "7654/7654 [==============================] - 0s 57us/sample - loss: 26.4686\n",
      "Epoch 86/100\n",
      "7654/7654 [==============================] - 0s 44us/sample - loss: 26.7454\n",
      "Epoch 87/100\n",
      "7654/7654 [==============================] - 0s 42us/sample - loss: 27.0419\n",
      "Epoch 88/100\n",
      "7654/7654 [==============================] - 0s 43us/sample - loss: 27.1978\n",
      "Epoch 89/100\n",
      "7654/7654 [==============================] - 0s 51us/sample - loss: 26.8438\n",
      "Epoch 90/100\n",
      "7654/7654 [==============================] - 0s 45us/sample - loss: 26.6826\n",
      "Epoch 91/100\n",
      "7654/7654 [==============================] - 0s 44us/sample - loss: 26.3722\n",
      "Epoch 92/100\n"
     ]
    },
    {
     "name": "stdout",
     "output_type": "stream",
     "text": [
      "7654/7654 [==============================] - 0s 50us/sample - loss: 26.5531\n",
      "Epoch 93/100\n",
      "7654/7654 [==============================] - 0s 42us/sample - loss: 26.8225\n",
      "Epoch 94/100\n",
      "7654/7654 [==============================] - 0s 41us/sample - loss: 26.7257\n",
      "Epoch 95/100\n",
      "7654/7654 [==============================] - 0s 48us/sample - loss: 26.8997\n",
      "Epoch 96/100\n",
      "7654/7654 [==============================] - 0s 40us/sample - loss: 27.3132\n",
      "Epoch 97/100\n",
      "7654/7654 [==============================] - 0s 35us/sample - loss: 26.5922\n",
      "Epoch 98/100\n",
      "7654/7654 [==============================] - 0s 35us/sample - loss: 26.6305\n",
      "Epoch 99/100\n",
      "7654/7654 [==============================] - 0s 43us/sample - loss: 27.4208\n",
      "Epoch 100/100\n",
      "7654/7654 [==============================] - 0s 38us/sample - loss: 26.5322\n"
     ]
    },
    {
     "data": {
      "text/plain": [
       "<tensorflow.python.keras.callbacks.History at 0x203cedda988>"
      ]
     },
     "execution_count": 20,
     "metadata": {},
     "output_type": "execute_result"
    }
   ],
   "source": [
    "ann.fit(X_train, y_train, batch_size = 32, epochs = 100)"
   ]
  },
  {
   "cell_type": "code",
   "execution_count": 21,
   "metadata": {},
   "outputs": [],
   "source": [
    "predictions = ann.predict(X_test)"
   ]
  },
  {
   "cell_type": "code",
   "execution_count": 29,
   "metadata": {},
   "outputs": [
    {
     "data": {
      "text/plain": [
       "(1914, 1)"
      ]
     },
     "execution_count": 29,
     "metadata": {},
     "output_type": "execute_result"
    }
   ],
   "source": [
    "predictions.shape"
   ]
  },
  {
   "cell_type": "code",
   "execution_count": 25,
   "metadata": {},
   "outputs": [
    {
     "data": {
      "text/plain": [
       "(1914,)"
      ]
     },
     "execution_count": 25,
     "metadata": {},
     "output_type": "execute_result"
    }
   ],
   "source": [
    "y_test.shape"
   ]
  },
  {
   "cell_type": "code",
   "execution_count": 32,
   "metadata": {},
   "outputs": [],
   "source": [
    "np.set_printoptions(precision=2)"
   ]
  },
  {
   "cell_type": "code",
   "execution_count": 33,
   "metadata": {},
   "outputs": [
    {
     "name": "stdout",
     "output_type": "stream",
     "text": [
      "[[429.29 431.23]\n",
      " [460.29 460.01]\n",
      " [463.79 461.14]\n",
      " ...\n",
      " [471.04 473.26]\n",
      " [437.82 438.  ]\n",
      " [457.05 463.28]]\n"
     ]
    }
   ],
   "source": [
    "print(np.concatenate((predictions.reshape(len(predictions),1), y_test.reshape(len(y_test),1)),1))"
   ]
  },
  {
   "cell_type": "code",
   "execution_count": 34,
   "metadata": {},
   "outputs": [
    {
     "data": {
      "text/html": [
       "<div>\n",
       "<style scoped>\n",
       "    .dataframe tbody tr th:only-of-type {\n",
       "        vertical-align: middle;\n",
       "    }\n",
       "\n",
       "    .dataframe tbody tr th {\n",
       "        vertical-align: top;\n",
       "    }\n",
       "\n",
       "    .dataframe thead th {\n",
       "        text-align: right;\n",
       "    }\n",
       "</style>\n",
       "<table border=\"1\" class=\"dataframe\">\n",
       "  <thead>\n",
       "    <tr style=\"text-align: right;\">\n",
       "      <th></th>\n",
       "      <th>AT</th>\n",
       "      <th>V</th>\n",
       "      <th>AP</th>\n",
       "      <th>RH</th>\n",
       "      <th>PE</th>\n",
       "    </tr>\n",
       "  </thead>\n",
       "  <tbody>\n",
       "    <tr>\n",
       "      <th>0</th>\n",
       "      <td>14.96</td>\n",
       "      <td>41.76</td>\n",
       "      <td>1024.07</td>\n",
       "      <td>73.17</td>\n",
       "      <td>463.26</td>\n",
       "    </tr>\n",
       "    <tr>\n",
       "      <th>1</th>\n",
       "      <td>25.18</td>\n",
       "      <td>62.96</td>\n",
       "      <td>1020.04</td>\n",
       "      <td>59.08</td>\n",
       "      <td>444.37</td>\n",
       "    </tr>\n",
       "    <tr>\n",
       "      <th>2</th>\n",
       "      <td>5.11</td>\n",
       "      <td>39.40</td>\n",
       "      <td>1012.16</td>\n",
       "      <td>92.14</td>\n",
       "      <td>488.56</td>\n",
       "    </tr>\n",
       "    <tr>\n",
       "      <th>3</th>\n",
       "      <td>20.86</td>\n",
       "      <td>57.32</td>\n",
       "      <td>1010.24</td>\n",
       "      <td>76.64</td>\n",
       "      <td>446.48</td>\n",
       "    </tr>\n",
       "    <tr>\n",
       "      <th>4</th>\n",
       "      <td>10.82</td>\n",
       "      <td>37.50</td>\n",
       "      <td>1009.23</td>\n",
       "      <td>96.62</td>\n",
       "      <td>473.90</td>\n",
       "    </tr>\n",
       "  </tbody>\n",
       "</table>\n",
       "</div>"
      ],
      "text/plain": [
       "      AT      V       AP     RH      PE\n",
       "0  14.96  41.76  1024.07  73.17  463.26\n",
       "1  25.18  62.96  1020.04  59.08  444.37\n",
       "2   5.11  39.40  1012.16  92.14  488.56\n",
       "3  20.86  57.32  1010.24  76.64  446.48\n",
       "4  10.82  37.50  1009.23  96.62  473.90"
      ]
     },
     "execution_count": 34,
     "metadata": {},
     "output_type": "execute_result"
    }
   ],
   "source": [
    "df.head()"
   ]
  },
  {
   "cell_type": "code",
   "execution_count": null,
   "metadata": {},
   "outputs": [],
   "source": []
  }
 ],
 "metadata": {
  "kernelspec": {
   "display_name": "Python 3",
   "language": "python",
   "name": "python3"
  },
  "language_info": {
   "codemirror_mode": {
    "name": "ipython",
    "version": 3
   },
   "file_extension": ".py",
   "mimetype": "text/x-python",
   "name": "python",
   "nbconvert_exporter": "python",
   "pygments_lexer": "ipython3",
   "version": "3.7.6"
  }
 },
 "nbformat": 4,
 "nbformat_minor": 4
}
